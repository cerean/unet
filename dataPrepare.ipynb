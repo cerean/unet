<<<<<<< HEAD
{"nbformat":4,"nbformat_minor":0,"metadata":{"kernelspec":{"name":"python3","display_name":"Python 3"},"colab":{"name":"dataPrepare.ipynb","provenance":[],"collapsed_sections":[]},"language_info":{"name":"python"}},"cells":[{"cell_type":"code","metadata":{"colab":{"base_uri":"https://localhost:8080/"},"id":"rSyEAse1ENbH","executionInfo":{"status":"ok","timestamp":1619750370268,"user_tz":240,"elapsed":22189,"user":{"displayName":"Andrea Ceres","photoUrl":"","userId":"00692741891371770039"}},"outputId":"679e0d17-4942-405e-b7f3-2f9ad0e028f1"},"source":["from google.colab import drive\n","drive.mount('/content/drive')"],"execution_count":null,"outputs":[{"output_type":"stream","text":["Mounted at /content/drive\n"],"name":"stdout"}]},{"cell_type":"code","metadata":{"id":"1v0ExUV0EOn9"},"source":["import sys\n","\n","DIR = '/content/drive/My Drive/Colab Notebooks/NNDL/Project/unet/'\n","sys.path.append(DIR)"],"execution_count":null,"outputs":[]},{"cell_type":"code","metadata":{"id":"hkL3WpjDEK1z"},"source":["from data import *"],"execution_count":null,"outputs":[]},{"cell_type":"markdown","metadata":{"id":"NZztVrhgEK19"},"source":["# data augmentation \n","\n","In deep learning tasks, a lot of data is need to train DNN model, when the dataset is not big enough, data augmentation should be applied.\n","\n","keras.preprocessing.image.ImageDataGenerator is a data generator, which can feed the DNN with data like : (data,label), it can also do data augmentation at the same time.\n","\n","It is very convenient for us to use keras.preprocessing.image.ImageDataGenerator to do data augmentation by implement image rotation, shift, rescale and so on... see [keras documentation](https://keras.io/preprocessing/image/) for detail.\n","\n","For image segmentation tasks, the image and mask must be transformed **together!!**"]},{"cell_type":"markdown","metadata":{"id":"XrwppBkkEK1-"},"source":["## define your data generator\n","\n","If you want to visualize your data augmentation result, set save_to_dir = your path"]},{"cell_type":"code","metadata":{"id":"u9hzCi1aEK1-"},"source":["#if you don't want to do data augmentation, set data_gen_args as an empty dict.\n","#data_gen_args = dict()\n","\n","data_gen_args = dict(rotation_range=0.2,\n","                    width_shift_range=0.05,\n","                    height_shift_range=0.05,\n","                    shear_range=0.05,\n","                    zoom_range=0.05,\n","                    horizontal_flip=True,\n","                    fill_mode='nearest')\n","\n","trainGen = trainGenerator(20, \n","                             DIR+'data/membrane/train', \n","                             'image', \n","                             'label', \n","                             data_gen_args, \n","                             save_to_dir = DIR+\"data/membrane/train/aug\")"],"execution_count":null,"outputs":[]},{"cell_type":"markdown","metadata":{"id":"104wtP6OEK1_"},"source":["## visualize your data augmentation result"]},{"cell_type":"code","metadata":{"colab":{"base_uri":"https://localhost:8080/"},"id":"PfMOSuqDEK1_","executionInfo":{"status":"ok","timestamp":1619750530531,"user_tz":240,"elapsed":19214,"user":{"displayName":"Andrea Ceres","photoUrl":"","userId":"00692741891371770039"}},"outputId":"5748cfb0-8722-4686-f239-23dd5ae0de7e"},"source":["#you will see 60 transformed images and their masks in data/membrane/train/aug\n","num_batch = 3\n","for i, batch in enumerate(trainGen):\n","    if(i >= num_batch):\n","        break"],"execution_count":null,"outputs":[{"output_type":"stream","text":["Found 30 images belonging to 1 classes.\n","Found 30 images belonging to 1 classes.\n"],"name":"stdout"}]},{"cell_type":"markdown","metadata":{"id":"ACavUmM4EK2A"},"source":["## create .npy data\n","\n","If your computer has enough memory, you can create npy files containing all your images and masks, and feed your DNN with them."]},{"cell_type":"code","metadata":{"id":"AxzsONBTEK2A"},"source":["# image_arr, mask_arr = trainDataNpy(DIR+\"data/membrane/train/aug/\", DIR+\"data/membrane/train/aug/\")\n","# np.save(DIR+\"data/image_arr.npy\", image_arr)\n","# np.save(DIR+\"data/mask_arr.npy\", mask_arr)"],"execution_count":null,"outputs":[]}]}
=======
{
 "cells": [
  {
   "cell_type": "code",
   "execution_count": 1,
   "metadata": {},
   "outputs": [
    {
     "name": "stderr",
     "output_type": "stream",
     "text": [
      "C:\\SoftWare\\Anaconda2\\envs\\python3\\lib\\site-packages\\h5py\\__init__.py:36: FutureWarning: Conversion of the second argument of issubdtype from `float` to `np.floating` is deprecated. In future, it will be treated as `np.float64 == np.dtype(float).type`.\n",
      "  from ._conv import register_converters as _register_converters\n",
      "Using TensorFlow backend.\n"
     ]
    }
   ],
   "source": [
    "from data import *"
   ]
  },
  {
   "cell_type": "markdown",
   "metadata": {},
   "source": [
    "# data augmentation \n",
    "\n",
    "In deep learning tasks, a lot of data is need to train DNN model, when the dataset is not big enough, data augmentation should be applied.\n",
    "\n",
    "keras.preprocessing.image.ImageDataGenerator is a data generator, which can feed the DNN with data like : (data,label), it can also do data augmentation at the same time.\n",
    "\n",
    "It is very convenient for us to use keras.preprocessing.image.ImageDataGenerator to do data augmentation by implement image rotation, shift, rescale and so on... see [keras documentation](https://keras.io/preprocessing/image/) for detail.\n",
    "\n",
    "For image segmentation tasks, the image and mask must be transformed **together!!**"
   ]
  },
  {
   "cell_type": "markdown",
   "metadata": {},
   "source": [
    "## define your data generator\n",
    "\n",
    "If you want to visualize your data augmentation result, set save_to_dir = your path"
   ]
  },
  {
   "cell_type": "code",
   "execution_count": 6,
   "metadata": {},
   "outputs": [],
   "source": [
    "#if you don't want to do data augmentation, set data_gen_args as an empty dict.\n",
    "#data_gen_args = dict()\n",
    "\n",
    "data_gen_args = dict(rotation_range=0.2,\n",
    "                    width_shift_range=0.05,\n",
    "                    height_shift_range=0.05,\n",
    "                    shear_range=0.05,\n",
    "                    zoom_range=0.05,\n",
    "                    horizontal_flip=True,\n",
    "                    fill_mode='nearest')\n",
    "myGenerator = trainGenerator(20,'data/membrane/train','image','label',data_gen_args,save_to_dir = \"data/membrane/train/aug\")"
   ]
  },
  {
   "cell_type": "markdown",
   "metadata": {},
   "source": [
    "## visualize your data augmentation result"
   ]
  },
  {
   "cell_type": "code",
   "execution_count": 8,
   "metadata": {},
   "outputs": [],
   "source": [
    "#you will see 60 transformed images and their masks in data/membrane/train/aug\n",
    "num_batch = 3\n",
    "for i,batch in enumerate(myGenerator):\n",
    "    if(i >= num_batch):\n",
    "        break"
   ]
  },
  {
   "cell_type": "markdown",
   "metadata": {},
   "source": [
    "## create .npy data\n",
    "\n",
    "If your computer has enough memory, you can create npy files containing all your images and masks, and feed your DNN with them."
   ]
  },
  {
   "cell_type": "code",
   "execution_count": 9,
   "metadata": {},
   "outputs": [],
   "source": [
    "image_arr,mask_arr = geneTrainNpy(\"data/membrane/train/aug/\",\"data/membrane/train/aug/\")\n",
    "#np.save(\"data/image_arr.npy\",image_arr)\n",
    "#np.save(\"data/mask_arr.npy\",mask_arr)"
   ]
  }
 ],
 "metadata": {
  "kernelspec": {
   "display_name": "Python 3",
   "language": "python",
   "name": "python3"
  },
  "language_info": {
   "codemirror_mode": {
    "name": "ipython",
    "version": 3
   },
   "file_extension": ".py",
   "mimetype": "text/x-python",
   "name": "python",
   "nbconvert_exporter": "python",
   "pygments_lexer": "ipython3",
   "version": "3.6.2"
  }
 },
 "nbformat": 4,
 "nbformat_minor": 2
}
>>>>>>> b45af4d458437d8281cc218a07fd4380818ece4a
